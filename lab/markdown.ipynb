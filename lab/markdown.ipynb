{
 "cells": [
  {
   "cell_type": "markdown",
   "metadata": {},
   "source": [
    "change_name: "
   ]
  },
  {
   "cell_type": "markdown",
   "metadata": {},
   "source": [
    "detta scripts "
   ]
  }
 ],
 "metadata": {
  "language_info": {
   "name": "python"
  }
 },
 "nbformat": 4,
 "nbformat_minor": 2
}
