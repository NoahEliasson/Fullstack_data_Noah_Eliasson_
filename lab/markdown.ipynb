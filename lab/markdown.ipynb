{
 "cells": [
  {
   "cell_type": "markdown",
   "metadata": {},
   "source": [
    "### change_name: "
   ]
  },
  {
   "cell_type": "markdown",
   "metadata": {},
   "source": [
    "detta scripts hänivsar till parent path och sedan filerna inom respektive parent path. if cleaned_data_path redan finns så raderar rmtree denna för att försäkra att det inte skapas dubbletter. \n",
    "itererar sedan alla filer inom raw_data_path kopierar in dessa i cleaned_data_path med new_name vilket väljer första ordet innan ett mellanslag.\n"
   ]
  },
  {
   "cell_type": "markdown",
   "metadata": {},
   "source": [
    "### ingest_data_to_database:"
   ]
  },
  {
   "cell_type": "markdown",
   "metadata": {},
   "source": [
    "använder sig utav database from database klassen samt constants som har CLEANED_DATA_PATH, DATABASE_PATH vilket hänvisar till pathsen från constants.\n",
    "\n",
    "ingest_data_to_database innehåller en metod som först använder sig av ett \"translation_table\" vilket transformerar svenska å ä ö till a a o för att undvika framtida konflikter. Metoden går sedan vidare att iterera directory_path i cleaned_data_path vilket är alla mappar, csv_path in directory_path är alltså alla filer, csv_path splittar också vid första mellanslag och translate:ar alla å ä ö, samt lower.\n",
    "\n",
    "med with Database as db så skapas en connection med duckdb, __enter__ efter kodblocket tar slut tar __exit__ effekt. query metoden används och tabeller skapas med hjälp av duckdbs read_csv_auto.\n"
   ]
  },
  {
   "cell_type": "markdown",
   "metadata": {},
   "source": [
    "### query_database\n",
    "\n",
    "använder sig av connection och kör ett query:ar. metoden underlättar att vi inte behöver andvända oss av with varje gång vi query:ar i frontend\n",
    "\n",
    "\n"
   ]
  },
  {
   "cell_type": "markdown",
   "metadata": {},
   "source": [
    "### Graphs & KPI\n",
    "\n",
    "här skapar vi både plots och KPI för att sedan call:a dom för vår dashboard"
   ]
  },
  {
   "cell_type": "markdown",
   "metadata": {},
   "source": [
    "### Pages\n",
    "\n",
    "vi kan också skapa pages inom streamlit, här finns några andra KPI/graphs som jag valt lägga på pages istället, mest för test."
   ]
  }
 ],
 "metadata": {
  "language_info": {
   "name": "python"
  }
 },
 "nbformat": 4,
 "nbformat_minor": 2
}
