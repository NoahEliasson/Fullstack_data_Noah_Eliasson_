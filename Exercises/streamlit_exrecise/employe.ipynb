{
 "cells": [
  {
   "cell_type": "code",
   "execution_count": 14,
   "metadata": {},
   "outputs": [],
   "source": [
    "import pandas as pd\n",
    "\n",
    "# Existing employee data\n",
    "emp_info = []\n",
    "\n",
    "def add_employee(emp_id, name, age, salary, department): \n",
    "    emp_dict = {\"emp_id\": emp_id, \"name\": name, \"age\": age, \"salary\": salary, \"department\": department} \n",
    "    emp_info.append(emp_dict)\n",
    "\n",
    "# Adding employees with departments\n",
    "add_employee(0, \"Alice\", \"32\", 31000, \"HR\") \n",
    "add_employee(1, \"Bob\", \"38\", 41000, \"IT\") \n",
    "add_employee(2, \"Charlie\", \"22\", 28000, \"Sales\") \n",
    "add_employee(3, \"David\", \"45\", 50000, \"Management\")\n",
    "add_employee(4, \"Eva\", \"29\", 34000, \"HR\")\n",
    "add_employee(5, \"Frank\", \"41\", 46000, \"IT\")\n",
    "add_employee(6, \"Grace\", \"25\", 30000, \"Sales\")\n",
    "add_employee(7, \"Hank\", \"35\", 42000, \"IT\")\n",
    "add_employee(8, \"Ivy\", \"28\", 33000, \"Marketing\")\n",
    "add_employee(9, \"Jack\", \"50\", 55000, \"Management\")\n"
   ]
  },
  {
   "cell_type": "code",
   "execution_count": 15,
   "metadata": {},
   "outputs": [],
   "source": [
    "import pandas as pd\n",
    "df = pd.DataFrame(emp_info)"
   ]
  },
  {
   "cell_type": "code",
   "execution_count": 16,
   "metadata": {},
   "outputs": [
    {
     "data": {
      "text/html": [
       "<div>\n",
       "<style scoped>\n",
       "    .dataframe tbody tr th:only-of-type {\n",
       "        vertical-align: middle;\n",
       "    }\n",
       "\n",
       "    .dataframe tbody tr th {\n",
       "        vertical-align: top;\n",
       "    }\n",
       "\n",
       "    .dataframe thead th {\n",
       "        text-align: right;\n",
       "    }\n",
       "</style>\n",
       "<table border=\"1\" class=\"dataframe\">\n",
       "  <thead>\n",
       "    <tr style=\"text-align: right;\">\n",
       "      <th></th>\n",
       "      <th>emp_id</th>\n",
       "      <th>name</th>\n",
       "      <th>age</th>\n",
       "      <th>salary</th>\n",
       "      <th>department</th>\n",
       "    </tr>\n",
       "  </thead>\n",
       "  <tbody>\n",
       "    <tr>\n",
       "      <th>0</th>\n",
       "      <td>0</td>\n",
       "      <td>Alice</td>\n",
       "      <td>32</td>\n",
       "      <td>31000</td>\n",
       "      <td>HR</td>\n",
       "    </tr>\n",
       "    <tr>\n",
       "      <th>1</th>\n",
       "      <td>1</td>\n",
       "      <td>Bob</td>\n",
       "      <td>38</td>\n",
       "      <td>41000</td>\n",
       "      <td>IT</td>\n",
       "    </tr>\n",
       "    <tr>\n",
       "      <th>2</th>\n",
       "      <td>2</td>\n",
       "      <td>Charlie</td>\n",
       "      <td>22</td>\n",
       "      <td>28000</td>\n",
       "      <td>Sales</td>\n",
       "    </tr>\n",
       "    <tr>\n",
       "      <th>3</th>\n",
       "      <td>3</td>\n",
       "      <td>David</td>\n",
       "      <td>45</td>\n",
       "      <td>50000</td>\n",
       "      <td>Management</td>\n",
       "    </tr>\n",
       "    <tr>\n",
       "      <th>4</th>\n",
       "      <td>4</td>\n",
       "      <td>Eva</td>\n",
       "      <td>29</td>\n",
       "      <td>34000</td>\n",
       "      <td>HR</td>\n",
       "    </tr>\n",
       "    <tr>\n",
       "      <th>5</th>\n",
       "      <td>5</td>\n",
       "      <td>Frank</td>\n",
       "      <td>41</td>\n",
       "      <td>46000</td>\n",
       "      <td>IT</td>\n",
       "    </tr>\n",
       "    <tr>\n",
       "      <th>6</th>\n",
       "      <td>6</td>\n",
       "      <td>Grace</td>\n",
       "      <td>25</td>\n",
       "      <td>30000</td>\n",
       "      <td>Sales</td>\n",
       "    </tr>\n",
       "    <tr>\n",
       "      <th>7</th>\n",
       "      <td>7</td>\n",
       "      <td>Hank</td>\n",
       "      <td>35</td>\n",
       "      <td>42000</td>\n",
       "      <td>IT</td>\n",
       "    </tr>\n",
       "    <tr>\n",
       "      <th>8</th>\n",
       "      <td>8</td>\n",
       "      <td>Ivy</td>\n",
       "      <td>28</td>\n",
       "      <td>33000</td>\n",
       "      <td>Marketing</td>\n",
       "    </tr>\n",
       "    <tr>\n",
       "      <th>9</th>\n",
       "      <td>9</td>\n",
       "      <td>Jack</td>\n",
       "      <td>50</td>\n",
       "      <td>55000</td>\n",
       "      <td>Management</td>\n",
       "    </tr>\n",
       "  </tbody>\n",
       "</table>\n",
       "</div>"
      ],
      "text/plain": [
       "   emp_id     name age  salary  department\n",
       "0       0    Alice  32   31000          HR\n",
       "1       1      Bob  38   41000          IT\n",
       "2       2  Charlie  22   28000       Sales\n",
       "3       3    David  45   50000  Management\n",
       "4       4      Eva  29   34000          HR\n",
       "5       5    Frank  41   46000          IT\n",
       "6       6    Grace  25   30000       Sales\n",
       "7       7     Hank  35   42000          IT\n",
       "8       8      Ivy  28   33000   Marketing\n",
       "9       9     Jack  50   55000  Management"
      ]
     },
     "execution_count": 16,
     "metadata": {},
     "output_type": "execute_result"
    }
   ],
   "source": [
    "df"
   ]
  },
  {
   "cell_type": "code",
   "execution_count": 11,
   "metadata": {},
   "outputs": [],
   "source": [
    "df[\"salary\"] = pd.to_numeric(df[\"salary\"])\n",
    "df[\"age\"] = pd.to_numeric(df[\"age\"])"
   ]
  },
  {
   "cell_type": "code",
   "execution_count": 13,
   "metadata": {},
   "outputs": [
    {
     "data": {
      "text/plain": [
       "39000.0"
      ]
     },
     "execution_count": 13,
     "metadata": {},
     "output_type": "execute_result"
    }
   ],
   "source": [
    "avg_age = df[\"age\"].mean()\n",
    "avg_age\n",
    "avg_salary = df[\"salary\"].mean()\n",
    "avg_salary"
   ]
  },
  {
   "cell_type": "code",
   "execution_count": 18,
   "metadata": {},
   "outputs": [],
   "source": [
    "df.to_csv(\"../data/employye_table.csv\")"
   ]
  }
 ],
 "metadata": {
  "kernelspec": {
   "display_name": "Python 3",
   "language": "python",
   "name": "python3"
  },
  "language_info": {
   "codemirror_mode": {
    "name": "ipython",
    "version": 3
   },
   "file_extension": ".py",
   "mimetype": "text/x-python",
   "name": "python",
   "nbconvert_exporter": "python",
   "pygments_lexer": "ipython3",
   "version": "3.11.7"
  }
 },
 "nbformat": 4,
 "nbformat_minor": 2
}
